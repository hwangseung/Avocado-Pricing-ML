{
 "cells": [
  {
   "cell_type": "code",
   "execution_count": 96,
   "metadata": {},
   "outputs": [],
   "source": [
    "import pandas as pd\n",
    "import numpy as np\n",
    "import warnings\n",
    "warnings.filterwarnings('ignore') \n",
    "%config IPCompleter.greedy=True"
   ]
  },
  {
   "cell_type": "code",
   "execution_count": 97,
   "metadata": {},
   "outputs": [],
   "source": [
    "df = pd.read_csv('avocado.csv', index_col = 'Date')"
   ]
  },
  {
   "cell_type": "code",
   "execution_count": 98,
   "metadata": {},
   "outputs": [
    {
     "data": {
      "text/html": [
       "<div>\n",
       "<style scoped>\n",
       "    .dataframe tbody tr th:only-of-type {\n",
       "        vertical-align: middle;\n",
       "    }\n",
       "\n",
       "    .dataframe tbody tr th {\n",
       "        vertical-align: top;\n",
       "    }\n",
       "\n",
       "    .dataframe thead th {\n",
       "        text-align: right;\n",
       "    }\n",
       "</style>\n",
       "<table border=\"1\" class=\"dataframe\">\n",
       "  <thead>\n",
       "    <tr style=\"text-align: right;\">\n",
       "      <th></th>\n",
       "      <th>Unnamed: 0</th>\n",
       "      <th>AveragePrice</th>\n",
       "      <th>Total Volume</th>\n",
       "      <th>4046</th>\n",
       "      <th>4225</th>\n",
       "      <th>4770</th>\n",
       "      <th>Total Bags</th>\n",
       "      <th>Small Bags</th>\n",
       "      <th>Large Bags</th>\n",
       "      <th>XLarge Bags</th>\n",
       "      <th>type</th>\n",
       "      <th>year</th>\n",
       "      <th>region</th>\n",
       "    </tr>\n",
       "    <tr>\n",
       "      <th>Date</th>\n",
       "      <th></th>\n",
       "      <th></th>\n",
       "      <th></th>\n",
       "      <th></th>\n",
       "      <th></th>\n",
       "      <th></th>\n",
       "      <th></th>\n",
       "      <th></th>\n",
       "      <th></th>\n",
       "      <th></th>\n",
       "      <th></th>\n",
       "      <th></th>\n",
       "      <th></th>\n",
       "    </tr>\n",
       "  </thead>\n",
       "  <tbody>\n",
       "    <tr>\n",
       "      <th>2015-01-04</th>\n",
       "      <td>51</td>\n",
       "      <td>1.75</td>\n",
       "      <td>27365.89</td>\n",
       "      <td>9307.34</td>\n",
       "      <td>3844.81</td>\n",
       "      <td>615.28</td>\n",
       "      <td>13598.46</td>\n",
       "      <td>13061.10</td>\n",
       "      <td>537.36</td>\n",
       "      <td>0.0</td>\n",
       "      <td>organic</td>\n",
       "      <td>2015</td>\n",
       "      <td>Southeast</td>\n",
       "    </tr>\n",
       "    <tr>\n",
       "      <th>2015-01-04</th>\n",
       "      <td>51</td>\n",
       "      <td>1.49</td>\n",
       "      <td>17723.17</td>\n",
       "      <td>1189.35</td>\n",
       "      <td>15628.27</td>\n",
       "      <td>0.00</td>\n",
       "      <td>905.55</td>\n",
       "      <td>905.55</td>\n",
       "      <td>0.00</td>\n",
       "      <td>0.0</td>\n",
       "      <td>organic</td>\n",
       "      <td>2015</td>\n",
       "      <td>Chicago</td>\n",
       "    </tr>\n",
       "    <tr>\n",
       "      <th>2015-01-04</th>\n",
       "      <td>51</td>\n",
       "      <td>1.68</td>\n",
       "      <td>2896.72</td>\n",
       "      <td>161.68</td>\n",
       "      <td>206.96</td>\n",
       "      <td>0.00</td>\n",
       "      <td>2528.08</td>\n",
       "      <td>2528.08</td>\n",
       "      <td>0.00</td>\n",
       "      <td>0.0</td>\n",
       "      <td>organic</td>\n",
       "      <td>2015</td>\n",
       "      <td>HarrisburgScranton</td>\n",
       "    </tr>\n",
       "    <tr>\n",
       "      <th>2015-01-04</th>\n",
       "      <td>51</td>\n",
       "      <td>1.52</td>\n",
       "      <td>54956.80</td>\n",
       "      <td>3013.04</td>\n",
       "      <td>35456.88</td>\n",
       "      <td>1561.70</td>\n",
       "      <td>14925.18</td>\n",
       "      <td>11264.80</td>\n",
       "      <td>3660.38</td>\n",
       "      <td>0.0</td>\n",
       "      <td>conventional</td>\n",
       "      <td>2015</td>\n",
       "      <td>Pittsburgh</td>\n",
       "    </tr>\n",
       "    <tr>\n",
       "      <th>2015-01-04</th>\n",
       "      <td>51</td>\n",
       "      <td>1.64</td>\n",
       "      <td>1505.12</td>\n",
       "      <td>1.27</td>\n",
       "      <td>1129.50</td>\n",
       "      <td>0.00</td>\n",
       "      <td>374.35</td>\n",
       "      <td>186.67</td>\n",
       "      <td>187.68</td>\n",
       "      <td>0.0</td>\n",
       "      <td>organic</td>\n",
       "      <td>2015</td>\n",
       "      <td>Boise</td>\n",
       "    </tr>\n",
       "  </tbody>\n",
       "</table>\n",
       "</div>"
      ],
      "text/plain": [
       "            Unnamed: 0  AveragePrice  Total Volume     4046      4225  \\\n",
       "Date                                                                    \n",
       "2015-01-04          51          1.75      27365.89  9307.34   3844.81   \n",
       "2015-01-04          51          1.49      17723.17  1189.35  15628.27   \n",
       "2015-01-04          51          1.68       2896.72   161.68    206.96   \n",
       "2015-01-04          51          1.52      54956.80  3013.04  35456.88   \n",
       "2015-01-04          51          1.64       1505.12     1.27   1129.50   \n",
       "\n",
       "               4770  Total Bags  Small Bags  Large Bags  XLarge Bags  \\\n",
       "Date                                                                   \n",
       "2015-01-04   615.28    13598.46    13061.10      537.36          0.0   \n",
       "2015-01-04     0.00      905.55      905.55        0.00          0.0   \n",
       "2015-01-04     0.00     2528.08     2528.08        0.00          0.0   \n",
       "2015-01-04  1561.70    14925.18    11264.80     3660.38          0.0   \n",
       "2015-01-04     0.00      374.35      186.67      187.68          0.0   \n",
       "\n",
       "                    type  year              region  \n",
       "Date                                                \n",
       "2015-01-04       organic  2015           Southeast  \n",
       "2015-01-04       organic  2015             Chicago  \n",
       "2015-01-04       organic  2015  HarrisburgScranton  \n",
       "2015-01-04  conventional  2015          Pittsburgh  \n",
       "2015-01-04       organic  2015               Boise  "
      ]
     },
     "execution_count": 98,
     "metadata": {},
     "output_type": "execute_result"
    }
   ],
   "source": [
    "#Let's print the head to get a feeling for the data\n",
    "df = df.sort_index()\n",
    "df.head()"
   ]
  },
  {
   "cell_type": "markdown",
   "metadata": {},
   "source": [
    "# Initial Impressions\n",
    "\n",
    "Well we can clearly see there is a bit of cleaning left to do. Luckily the dataset downloaded explicitly stated there were no missing values so we don't have to worry about those. There is an Unnamed: 0 column floating in the dataset that seems to have no meaning whatsoever. The 4046-4770 columns should be renamed to more clearly show what the variable actually represents: avocado sizes. Finally, we should add month, day, and season features to increase the amount of data our model will have to work with. So let's write a custom transformer using sci-kit learn to wrap all the initial operations into a neat little package."
   ]
  },
  {
   "cell_type": "code",
   "execution_count": 99,
   "metadata": {},
   "outputs": [],
   "source": [
    "from sklearn.base import BaseEstimator, TransformerMixin\n",
    "class InitialManipulation(BaseEstimator, TransformerMixin):\n",
    "    def __init__(self):\n",
    "        pass\n",
    "    def transform(self, X, y = None):\n",
    "        X['month'] = pd.to_datetime(X.index)\n",
    "        X['month'] = X['month'].dt.month\n",
    "        X['day'] = pd.to_datetime(X.index)\n",
    "        X['day'] = X['day'].dt.day\n",
    "        X['Season'] = pd.to_datetime(X.index)\n",
    "        X['Season'] = (X['Season'].dt.month%12 + 3) // 3\n",
    "        X = X.drop(columns = ['Unnamed: 0'])\n",
    "        X = X.rename(columns={'4046': 'Small Avocados Sold', '4225': 'Medium Avocados Sold', \n",
    "                                '4770': 'Large Avocados Sold'})\n",
    "        X = X.reset_index()\n",
    "        return X"
   ]
  },
  {
   "cell_type": "code",
   "execution_count": 100,
   "metadata": {},
   "outputs": [],
   "source": [
    "transformer = InitialManipulation()\n",
    "df = transformer.transform(df)\n",
    "\n",
    "#creating the label set\n",
    "Y = df['AveragePrice'].copy()\n",
    "df = df.drop(columns=['AveragePrice'])"
   ]
  },
  {
   "cell_type": "code",
   "execution_count": 101,
   "metadata": {},
   "outputs": [
    {
     "data": {
      "text/html": [
       "<div>\n",
       "<style scoped>\n",
       "    .dataframe tbody tr th:only-of-type {\n",
       "        vertical-align: middle;\n",
       "    }\n",
       "\n",
       "    .dataframe tbody tr th {\n",
       "        vertical-align: top;\n",
       "    }\n",
       "\n",
       "    .dataframe thead th {\n",
       "        text-align: right;\n",
       "    }\n",
       "</style>\n",
       "<table border=\"1\" class=\"dataframe\">\n",
       "  <thead>\n",
       "    <tr style=\"text-align: right;\">\n",
       "      <th></th>\n",
       "      <th>Date</th>\n",
       "      <th>Total Volume</th>\n",
       "      <th>Small Avocados Sold</th>\n",
       "      <th>Medium Avocados Sold</th>\n",
       "      <th>Large Avocados Sold</th>\n",
       "      <th>Total Bags</th>\n",
       "      <th>Small Bags</th>\n",
       "      <th>Large Bags</th>\n",
       "      <th>XLarge Bags</th>\n",
       "      <th>type</th>\n",
       "      <th>year</th>\n",
       "      <th>region</th>\n",
       "      <th>month</th>\n",
       "      <th>day</th>\n",
       "      <th>Season</th>\n",
       "    </tr>\n",
       "  </thead>\n",
       "  <tbody>\n",
       "    <tr>\n",
       "      <th>0</th>\n",
       "      <td>2015-01-04</td>\n",
       "      <td>27365.89</td>\n",
       "      <td>9307.34</td>\n",
       "      <td>3844.81</td>\n",
       "      <td>615.28</td>\n",
       "      <td>13598.46</td>\n",
       "      <td>13061.10</td>\n",
       "      <td>537.36</td>\n",
       "      <td>0.0</td>\n",
       "      <td>organic</td>\n",
       "      <td>2015</td>\n",
       "      <td>Southeast</td>\n",
       "      <td>1</td>\n",
       "      <td>4</td>\n",
       "      <td>1</td>\n",
       "    </tr>\n",
       "    <tr>\n",
       "      <th>1</th>\n",
       "      <td>2015-01-04</td>\n",
       "      <td>17723.17</td>\n",
       "      <td>1189.35</td>\n",
       "      <td>15628.27</td>\n",
       "      <td>0.00</td>\n",
       "      <td>905.55</td>\n",
       "      <td>905.55</td>\n",
       "      <td>0.00</td>\n",
       "      <td>0.0</td>\n",
       "      <td>organic</td>\n",
       "      <td>2015</td>\n",
       "      <td>Chicago</td>\n",
       "      <td>1</td>\n",
       "      <td>4</td>\n",
       "      <td>1</td>\n",
       "    </tr>\n",
       "    <tr>\n",
       "      <th>2</th>\n",
       "      <td>2015-01-04</td>\n",
       "      <td>2896.72</td>\n",
       "      <td>161.68</td>\n",
       "      <td>206.96</td>\n",
       "      <td>0.00</td>\n",
       "      <td>2528.08</td>\n",
       "      <td>2528.08</td>\n",
       "      <td>0.00</td>\n",
       "      <td>0.0</td>\n",
       "      <td>organic</td>\n",
       "      <td>2015</td>\n",
       "      <td>HarrisburgScranton</td>\n",
       "      <td>1</td>\n",
       "      <td>4</td>\n",
       "      <td>1</td>\n",
       "    </tr>\n",
       "    <tr>\n",
       "      <th>3</th>\n",
       "      <td>2015-01-04</td>\n",
       "      <td>54956.80</td>\n",
       "      <td>3013.04</td>\n",
       "      <td>35456.88</td>\n",
       "      <td>1561.70</td>\n",
       "      <td>14925.18</td>\n",
       "      <td>11264.80</td>\n",
       "      <td>3660.38</td>\n",
       "      <td>0.0</td>\n",
       "      <td>conventional</td>\n",
       "      <td>2015</td>\n",
       "      <td>Pittsburgh</td>\n",
       "      <td>1</td>\n",
       "      <td>4</td>\n",
       "      <td>1</td>\n",
       "    </tr>\n",
       "    <tr>\n",
       "      <th>4</th>\n",
       "      <td>2015-01-04</td>\n",
       "      <td>1505.12</td>\n",
       "      <td>1.27</td>\n",
       "      <td>1129.50</td>\n",
       "      <td>0.00</td>\n",
       "      <td>374.35</td>\n",
       "      <td>186.67</td>\n",
       "      <td>187.68</td>\n",
       "      <td>0.0</td>\n",
       "      <td>organic</td>\n",
       "      <td>2015</td>\n",
       "      <td>Boise</td>\n",
       "      <td>1</td>\n",
       "      <td>4</td>\n",
       "      <td>1</td>\n",
       "    </tr>\n",
       "  </tbody>\n",
       "</table>\n",
       "</div>"
      ],
      "text/plain": [
       "         Date  Total Volume  Small Avocados Sold  Medium Avocados Sold  \\\n",
       "0  2015-01-04      27365.89              9307.34               3844.81   \n",
       "1  2015-01-04      17723.17              1189.35              15628.27   \n",
       "2  2015-01-04       2896.72               161.68                206.96   \n",
       "3  2015-01-04      54956.80              3013.04              35456.88   \n",
       "4  2015-01-04       1505.12                 1.27               1129.50   \n",
       "\n",
       "   Large Avocados Sold  Total Bags  Small Bags  Large Bags  XLarge Bags  \\\n",
       "0               615.28    13598.46    13061.10      537.36          0.0   \n",
       "1                 0.00      905.55      905.55        0.00          0.0   \n",
       "2                 0.00     2528.08     2528.08        0.00          0.0   \n",
       "3              1561.70    14925.18    11264.80     3660.38          0.0   \n",
       "4                 0.00      374.35      186.67      187.68          0.0   \n",
       "\n",
       "           type  year              region  month  day  Season  \n",
       "0       organic  2015           Southeast      1    4       1  \n",
       "1       organic  2015             Chicago      1    4       1  \n",
       "2       organic  2015  HarrisburgScranton      1    4       1  \n",
       "3  conventional  2015          Pittsburgh      1    4       1  \n",
       "4       organic  2015               Boise      1    4       1  "
      ]
     },
     "execution_count": 101,
     "metadata": {},
     "output_type": "execute_result"
    }
   ],
   "source": [
    "df.head()"
   ]
  },
  {
   "cell_type": "markdown",
   "metadata": {},
   "source": [
    "# Further Pre-processing\n",
    "\n",
    "Now that the dataset has been cleaned up and augmented. We are going to need further process the data before it is able to be properly input into a machine learning model. Categorical variables such as month, day, year, and Season would only need to be scaled with all the other numerical variables. Scaling the values helps the model train faster and not accidentally bias the model towards one feature or another. These categorical variables are special and can remain as integers because the relationship in the distance between numbers is accurate for the distance between each category i.e. January is close to February same way 1 is close to 2. However, the region and type variables cannot be processed that way since New York is generally going to be independent from Chicago so representing them with integers may confuse the model to find proximity relationships that don't exist. We are going to need to one-hot encode those."
   ]
  },
  {
   "cell_type": "code",
   "execution_count": 102,
   "metadata": {
    "scrolled": true
   },
   "outputs": [],
   "source": [
    "from sklearn.preprocessing import MinMaxScaler\n",
    "from sklearn.preprocessing import OneHotEncoder\n",
    "\n",
    "df_date = df['Date']\n",
    "df = df.drop(columns = ['Date'])\n",
    "df_numerical = df.copy().drop(columns = ['type', 'region'])\n",
    "df_categorical = df[['type', 'region']]\n",
    "\n",
    "categorical_columns = list(df_categorical)\n",
    "\n",
    "scaler = MinMaxScaler()\n",
    "encoder = OneHotEncoder()\n",
    "df_numerical = scaler.fit_transform(df_numerical)\n",
    "df_numerical = pd.DataFrame(df_numerical)\n",
    "df_numerical = pd.concat([df_numerical, df_date], axis = 1)"
   ]
  },
  {
   "cell_type": "code",
   "execution_count": 103,
   "metadata": {},
   "outputs": [],
   "source": [
    "df_categorical = pd.get_dummies(df_categorical, sparse = True)"
   ]
  },
  {
   "cell_type": "code",
   "execution_count": 104,
   "metadata": {},
   "outputs": [],
   "source": [
    "df_concat = pd.concat([df_numerical, df_categorical], axis = 1)"
   ]
  },
  {
   "cell_type": "markdown",
   "metadata": {},
   "source": [
    "# Randomizing the dataset\n",
    "\n",
    "It is generally the best practice to randomize the split between the training set and the testing set so that there are less possible statistical biases that the model can pick up on. We are going to reserve the test set at the very end for final evaluation of the model."
   ]
  },
  {
   "cell_type": "code",
   "execution_count": 105,
   "metadata": {},
   "outputs": [],
   "source": [
    "from sklearn.model_selection import train_test_split\n",
    "\n",
    "X_train, X_test, Y_train, Y_test = train_test_split(df_concat, Y, test_size = .2, random_state = 42)\n",
    "\n",
    "df_date = X_test['Date']\n",
    "X_train = X_train.drop(columns = ['Date'])\n",
    "X_test = X_test.drop(columns = ['Date'])"
   ]
  },
  {
   "cell_type": "code",
   "execution_count": 106,
   "metadata": {},
   "outputs": [
    {
     "data": {
      "text/plain": [
       "RandomForestRegressor(bootstrap=True, criterion='mse', max_depth=None,\n",
       "           max_features='auto', max_leaf_nodes=None,\n",
       "           min_impurity_decrease=0.0, min_impurity_split=None,\n",
       "           min_samples_leaf=1, min_samples_split=2,\n",
       "           min_weight_fraction_leaf=0.0, n_estimators=10, n_jobs=None,\n",
       "           oob_score=False, random_state=None, verbose=0, warm_start=False)"
      ]
     },
     "execution_count": 106,
     "metadata": {},
     "output_type": "execute_result"
    }
   ],
   "source": [
    "from sklearn.ensemble import RandomForestRegressor\n",
    "\n",
    "model = RandomForestRegressor()\n",
    "model.fit(X_train, Y_train)"
   ]
  },
  {
   "cell_type": "markdown",
   "metadata": {},
   "source": [
    "# Evaluating the model\n",
    "\n",
    "Training the model was incredibly simple thanks to the scikit-learn API. Now we need to see whether all this work was worth the trouble. First off, you may have noticed initially that our dataset has quite a few duplicate dates within the index. That is because the dataset contains prices for every single region/city on a specifc day. In order to properly evaluate the model and make sense of the later graph, we are just going to extract all datapoints on Chicago from our test set. The city doesn't matter as long as we just use one."
   ]
  },
  {
   "cell_type": "code",
   "execution_count": 107,
   "metadata": {},
   "outputs": [],
   "source": [
    "chicago = X_test[X_test['region_Chicago'] == 1]\n",
    "df_date = df_date[chicago.index]\n",
    "\n",
    "chicago_labels = Y_test[chicago.index]\n",
    "chicago_labels = pd.concat([chicago_labels, df_date], axis = 1)\n",
    "\n",
    "chicago_labels = chicago_labels.set_index(chicago_labels['Date'])\n",
    "chicago_labels = chicago_labels.drop(columns = ['Date'])\n",
    "\n",
    "preds = model.predict(chicago)\n",
    "preds = pd.DataFrame(preds, index = df_date)\n",
    "\n",
    "preds = preds.sort_index()\n",
    "chicago_labels = chicago_labels.sort_index()"
   ]
  },
  {
   "cell_type": "code",
   "execution_count": 108,
   "metadata": {},
   "outputs": [
    {
     "name": "stdout",
     "output_type": "stream",
     "text": [
      "0.030257757575757573\n"
     ]
    }
   ],
   "source": [
    "from sklearn.metrics import mean_squared_error\n",
    "\n",
    "#error metric of our model\n",
    "error = mean_squared_error(preds, chicago_labels)\n",
    "print(error)"
   ]
  },
  {
   "cell_type": "code",
   "execution_count": 109,
   "metadata": {},
   "outputs": [],
   "source": [
    "import matplotlib.pyplot as plt"
   ]
  },
  {
   "cell_type": "code",
   "execution_count": 110,
   "metadata": {},
   "outputs": [
    {
     "data": {
      "image/png": "[encoded data removed]",
      "text/plain": [
       "<Figure size 1440x360 with 1 Axes>"
      ]
     },
     "metadata": {},
     "output_type": "display_data"
    }
   ],
   "source": [
    "plt.style.use('seaborn')\n",
    "plt.figure(figsize=(20, 5))\n",
    "plt.subplot(1,1,1)\n",
    "plt.plot(np.array(chicago_labels), color='blue', label='Actual Value')\n",
    "plt.plot(np.array(preds),color='red',label='Test Prediction')\n",
    "plt.title('Result')\n",
    "plt.xlabel('time [days]')\n",
    "plt.ylabel('price (in dollars)')\n",
    "plt.legend(loc='best')\n",
    "plt.show()"
   ]
  },
  {
   "cell_type": "markdown",
   "metadata": {},
   "source": [
    "# Final Thoughts\n",
    "\n",
    "The model performed fairly decently. There is definitely room for improvement as one can see from the graph. The later values tended to be very poorly fit compared to the intial half of the graph. We could use GridSearchCV and maybe find additional datasets such as climate to further improve model accuracy. But for now, we can appreciate the results."
   ]
  },
  {
   "cell_type": "code",
   "execution_count": null,
   "metadata": {},
   "outputs": [],
   "source": []
  }
 ],
 "metadata": {
  "kernelspec": {
   "display_name": "Python 3",
   "language": "python",
   "name": "python3"
  },
  "language_info": {
   "codemirror_mode": {
    "name": "ipython",
    "version": 3
   },
   "file_extension": ".py",
   "mimetype": "text/x-python",
   "name": "python",
   "nbconvert_exporter": "python",
   "pygments_lexer": "ipython3",
   "version": "3.6.6"
  }
 },
 "nbformat": 4,
 "nbformat_minor": 2
}
